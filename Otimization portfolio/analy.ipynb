{
 "cells": [
  {
   "cell_type": "code",
   "execution_count": 1,
   "metadata": {},
   "outputs": [],
   "source": [
    "import yfinance as yf\n",
    "import numpy as np\n"
   ]
  },
  {
   "cell_type": "markdown",
   "metadata": {},
   "source": [
    "<h2> Cálculo da Covarância\n",
    "<h2> Cálculo de Retorno\n",
    "<h2> Média de Retorno"
   ]
  },
  {
   "cell_type": "code",
   "execution_count": 2,
   "metadata": {},
   "outputs": [],
   "source": [
    "def retorno(close_now:float, close_before:float):\n",
    "    return (close_now - close_before)/close_before"
   ]
  },
  {
   "cell_type": "code",
   "execution_count": 3,
   "metadata": {},
   "outputs": [],
   "source": [
    "def media_retorno(closes:list):\n",
    "    mean = 0\n",
    "    for n in range(1, len(closes)):\n",
    "        mean += retorno(closes[n], closes[n-1])\n",
    "    mean /= len(closes)\n",
    "    return mean"
   ]
  },
  {
   "cell_type": "markdown",
   "metadata": {},
   "source": [
    "<h2>Variancia<h2>\n",
    "<img src=\"variancia.jpg\" style=\"height:220px\">"
   ]
  },
  {
   "cell_type": "code",
   "execution_count": 108,
   "metadata": {},
   "outputs": [],
   "source": [
    "def variancia(closes):\n",
    "    v = 0\n",
    "    mean = sum(closes)/len(closes)\n",
    "    for close in closes:\n",
    "        v += (close - mean)**2\n",
    "    v /= len(closes)\n",
    "    return v"
   ]
  },
  {
   "cell_type": "markdown",
   "metadata": {},
   "source": [
    "<h2>Covariância entre Ativos"
   ]
  },
  {
   "cell_type": "code",
   "execution_count": 110,
   "metadata": {},
   "outputs": [],
   "source": [
    "def covariancia(closes_1, closes_2):\n",
    "    c = 0\n",
    "    n = len(closes_1)\n",
    "    mean_1 = sum(closes_1)/len(closes_1)\n",
    "    mean_2 = sum(closes_2)/len(closes_2)\n",
    "\n",
    "    for close_1, close_2 in zip(closes_1, closes_2):\n",
    "        c += (close_1 - mean_1)*(close_2 - mean_2)\n",
    "    c /= n - 1\n",
    "    return c"
   ]
  },
  {
   "cell_type": "code",
   "execution_count": null,
   "metadata": {},
   "outputs": [],
   "source": [
    "def portifolio_risco(assets:list):\n",
    "    var = [asset['taxa'] for asset in assets]"
   ]
  },
  {
   "cell_type": "code",
   "execution_count": 111,
   "metadata": {},
   "outputs": [
    {
     "data": {
      "text/plain": [
       "0.32999999999999985"
      ]
     },
     "execution_count": 111,
     "metadata": {},
     "output_type": "execute_result"
    }
   ],
   "source": [
    "a = [3.3,3.4,4.1]\n",
    "b = [5.3,6.5,7.1]\n",
    "covariancia(a, b)"
   ]
  },
  {
   "cell_type": "markdown",
   "metadata": {},
   "source": [
    "<h2> Função a ser minimizada\n",
    "<h1> A major concern in the portfolio selection is to minimize the risk. In order to find\n",
    "the invested fractions y1, and y2. We solve the following problem<h1>\n",
    "<img src=\"func_mim.PNG\" style=\"height:220px\">\n",
    "<img src=\"func_mim_2.PNG\" style=\"height:180px\">\n",
    "<img src=\"func_mim_3.PNG\" style=\"height:90px\">"
   ]
  },
  {
   "cell_type": "code",
   "execution_count": 121,
   "metadata": {},
   "outputs": [],
   "source": [
    "def func_to_min(x, var1, var2, cov):\n",
    "    Q = np.array([[var1, cov],[cov, var2]])\n",
    "    alpha = np.array([[0],[1]])\n",
    "    beta = np.array([[1],[-1]])\n",
    "    fx = (alpha.transpose() @ Q @ alpha) + ((2*beta.transpose() @ Q @ alpha)*x) + ((beta.transpose() @ Q @ beta)*(x**2))\n",
    "    return fx[0][0]"
   ]
  },
  {
   "cell_type": "code",
   "execution_count": 85,
   "metadata": {},
   "outputs": [
    {
     "data": {
      "text/plain": [
       "array([[0.00215]])"
      ]
     },
     "execution_count": 85,
     "metadata": {},
     "output_type": "execute_result"
    }
   ],
   "source": [
    "func_to_min(0.5, 0.0044, 0.0047, -0.00025)"
   ]
  },
  {
   "cell_type": "code",
   "execution_count": 86,
   "metadata": {},
   "outputs": [
    {
     "name": "stdout",
     "output_type": "stream",
     "text": [
      "[*********************100%***********************]  2 of 2 completed\n"
     ]
    }
   ],
   "source": [
    "data = yf.download(\"SPY AAPL\", start=\"2017-01-01\", end=\"2017-04-30\")"
   ]
  },
  {
   "cell_type": "code",
   "execution_count": 89,
   "metadata": {},
   "outputs": [
    {
     "data": {
      "text/html": [
       "<div>\n",
       "<style scoped>\n",
       "    .dataframe tbody tr th:only-of-type {\n",
       "        vertical-align: middle;\n",
       "    }\n",
       "\n",
       "    .dataframe tbody tr th {\n",
       "        vertical-align: top;\n",
       "    }\n",
       "\n",
       "    .dataframe thead tr th {\n",
       "        text-align: left;\n",
       "    }\n",
       "\n",
       "    .dataframe thead tr:last-of-type th {\n",
       "        text-align: right;\n",
       "    }\n",
       "</style>\n",
       "<table border=\"1\" class=\"dataframe\">\n",
       "  <thead>\n",
       "    <tr>\n",
       "      <th></th>\n",
       "      <th colspan=\"2\" halign=\"left\">Adj Close</th>\n",
       "      <th colspan=\"2\" halign=\"left\">Close</th>\n",
       "      <th colspan=\"2\" halign=\"left\">High</th>\n",
       "      <th colspan=\"2\" halign=\"left\">Low</th>\n",
       "      <th colspan=\"2\" halign=\"left\">Open</th>\n",
       "      <th colspan=\"2\" halign=\"left\">Volume</th>\n",
       "    </tr>\n",
       "    <tr>\n",
       "      <th></th>\n",
       "      <th>AAPL</th>\n",
       "      <th>SPY</th>\n",
       "      <th>AAPL</th>\n",
       "      <th>SPY</th>\n",
       "      <th>AAPL</th>\n",
       "      <th>SPY</th>\n",
       "      <th>AAPL</th>\n",
       "      <th>SPY</th>\n",
       "      <th>AAPL</th>\n",
       "      <th>SPY</th>\n",
       "      <th>AAPL</th>\n",
       "      <th>SPY</th>\n",
       "    </tr>\n",
       "    <tr>\n",
       "      <th>Date</th>\n",
       "      <th></th>\n",
       "      <th></th>\n",
       "      <th></th>\n",
       "      <th></th>\n",
       "      <th></th>\n",
       "      <th></th>\n",
       "      <th></th>\n",
       "      <th></th>\n",
       "      <th></th>\n",
       "      <th></th>\n",
       "      <th></th>\n",
       "      <th></th>\n",
       "    </tr>\n",
       "  </thead>\n",
       "  <tbody>\n",
       "    <tr>\n",
       "      <th>2017-01-03</th>\n",
       "      <td>27.372362</td>\n",
       "      <td>206.871796</td>\n",
       "      <td>29.037500</td>\n",
       "      <td>225.240005</td>\n",
       "      <td>29.082500</td>\n",
       "      <td>225.830002</td>\n",
       "      <td>28.690001</td>\n",
       "      <td>223.880005</td>\n",
       "      <td>28.950001</td>\n",
       "      <td>225.039993</td>\n",
       "      <td>115127600</td>\n",
       "      <td>91366500</td>\n",
       "    </tr>\n",
       "    <tr>\n",
       "      <th>2017-01-04</th>\n",
       "      <td>27.341724</td>\n",
       "      <td>208.102478</td>\n",
       "      <td>29.004999</td>\n",
       "      <td>226.580002</td>\n",
       "      <td>29.127501</td>\n",
       "      <td>226.750000</td>\n",
       "      <td>28.937500</td>\n",
       "      <td>225.610001</td>\n",
       "      <td>28.962500</td>\n",
       "      <td>225.619995</td>\n",
       "      <td>84472400</td>\n",
       "      <td>78744400</td>\n",
       "    </tr>\n",
       "    <tr>\n",
       "      <th>2017-01-05</th>\n",
       "      <td>27.480766</td>\n",
       "      <td>207.937180</td>\n",
       "      <td>29.152500</td>\n",
       "      <td>226.399994</td>\n",
       "      <td>29.215000</td>\n",
       "      <td>226.580002</td>\n",
       "      <td>28.952499</td>\n",
       "      <td>225.479996</td>\n",
       "      <td>28.980000</td>\n",
       "      <td>226.270004</td>\n",
       "      <td>88774400</td>\n",
       "      <td>78379000</td>\n",
       "    </tr>\n",
       "    <tr>\n",
       "      <th>2017-01-06</th>\n",
       "      <td>27.787132</td>\n",
       "      <td>208.681152</td>\n",
       "      <td>29.477501</td>\n",
       "      <td>227.210007</td>\n",
       "      <td>29.540001</td>\n",
       "      <td>227.750000</td>\n",
       "      <td>29.117500</td>\n",
       "      <td>225.899994</td>\n",
       "      <td>29.195000</td>\n",
       "      <td>226.529999</td>\n",
       "      <td>127007600</td>\n",
       "      <td>71559900</td>\n",
       "    </tr>\n",
       "    <tr>\n",
       "      <th>2017-01-09</th>\n",
       "      <td>28.041645</td>\n",
       "      <td>207.992294</td>\n",
       "      <td>29.747499</td>\n",
       "      <td>226.460007</td>\n",
       "      <td>29.857500</td>\n",
       "      <td>227.070007</td>\n",
       "      <td>29.485001</td>\n",
       "      <td>226.419998</td>\n",
       "      <td>29.487499</td>\n",
       "      <td>226.910004</td>\n",
       "      <td>134247600</td>\n",
       "      <td>46939700</td>\n",
       "    </tr>\n",
       "    <tr>\n",
       "      <th>...</th>\n",
       "      <td>...</td>\n",
       "      <td>...</td>\n",
       "      <td>...</td>\n",
       "      <td>...</td>\n",
       "      <td>...</td>\n",
       "      <td>...</td>\n",
       "      <td>...</td>\n",
       "      <td>...</td>\n",
       "      <td>...</td>\n",
       "      <td>...</td>\n",
       "      <td>...</td>\n",
       "      <td>...</td>\n",
       "    </tr>\n",
       "    <tr>\n",
       "      <th>2017-04-24</th>\n",
       "      <td>33.997520</td>\n",
       "      <td>218.776520</td>\n",
       "      <td>35.910000</td>\n",
       "      <td>237.169998</td>\n",
       "      <td>35.987499</td>\n",
       "      <td>237.410004</td>\n",
       "      <td>35.794998</td>\n",
       "      <td>234.559998</td>\n",
       "      <td>35.875000</td>\n",
       "      <td>237.179993</td>\n",
       "      <td>68537200</td>\n",
       "      <td>119209900</td>\n",
       "    </tr>\n",
       "    <tr>\n",
       "      <th>2017-04-25</th>\n",
       "      <td>34.208172</td>\n",
       "      <td>220.049515</td>\n",
       "      <td>36.132500</td>\n",
       "      <td>238.550003</td>\n",
       "      <td>36.224998</td>\n",
       "      <td>238.949997</td>\n",
       "      <td>35.967499</td>\n",
       "      <td>237.809998</td>\n",
       "      <td>35.977501</td>\n",
       "      <td>237.910004</td>\n",
       "      <td>75486000</td>\n",
       "      <td>76698300</td>\n",
       "    </tr>\n",
       "    <tr>\n",
       "      <th>2017-04-26</th>\n",
       "      <td>34.006989</td>\n",
       "      <td>219.911163</td>\n",
       "      <td>35.919998</td>\n",
       "      <td>238.399994</td>\n",
       "      <td>36.150002</td>\n",
       "      <td>239.529999</td>\n",
       "      <td>35.845001</td>\n",
       "      <td>238.350006</td>\n",
       "      <td>36.117500</td>\n",
       "      <td>238.509995</td>\n",
       "      <td>80164800</td>\n",
       "      <td>84702500</td>\n",
       "    </tr>\n",
       "    <tr>\n",
       "      <th>2017-04-27</th>\n",
       "      <td>34.033031</td>\n",
       "      <td>220.095657</td>\n",
       "      <td>35.947498</td>\n",
       "      <td>238.600006</td>\n",
       "      <td>36.040001</td>\n",
       "      <td>238.949997</td>\n",
       "      <td>35.827499</td>\n",
       "      <td>237.979996</td>\n",
       "      <td>35.980000</td>\n",
       "      <td>238.770004</td>\n",
       "      <td>56985200</td>\n",
       "      <td>57410300</td>\n",
       "    </tr>\n",
       "    <tr>\n",
       "      <th>2017-04-28</th>\n",
       "      <td>33.999893</td>\n",
       "      <td>219.615967</td>\n",
       "      <td>35.912498</td>\n",
       "      <td>238.080002</td>\n",
       "      <td>36.075001</td>\n",
       "      <td>238.929993</td>\n",
       "      <td>35.817501</td>\n",
       "      <td>237.929993</td>\n",
       "      <td>36.022499</td>\n",
       "      <td>238.899994</td>\n",
       "      <td>83441600</td>\n",
       "      <td>63532800</td>\n",
       "    </tr>\n",
       "  </tbody>\n",
       "</table>\n",
       "<p>81 rows × 12 columns</p>\n",
       "</div>"
      ],
      "text/plain": [
       "            Adj Close                  Close                   High  \\\n",
       "                 AAPL         SPY       AAPL         SPY       AAPL   \n",
       "Date                                                                  \n",
       "2017-01-03  27.372362  206.871796  29.037500  225.240005  29.082500   \n",
       "2017-01-04  27.341724  208.102478  29.004999  226.580002  29.127501   \n",
       "2017-01-05  27.480766  207.937180  29.152500  226.399994  29.215000   \n",
       "2017-01-06  27.787132  208.681152  29.477501  227.210007  29.540001   \n",
       "2017-01-09  28.041645  207.992294  29.747499  226.460007  29.857500   \n",
       "...               ...         ...        ...         ...        ...   \n",
       "2017-04-24  33.997520  218.776520  35.910000  237.169998  35.987499   \n",
       "2017-04-25  34.208172  220.049515  36.132500  238.550003  36.224998   \n",
       "2017-04-26  34.006989  219.911163  35.919998  238.399994  36.150002   \n",
       "2017-04-27  34.033031  220.095657  35.947498  238.600006  36.040001   \n",
       "2017-04-28  33.999893  219.615967  35.912498  238.080002  36.075001   \n",
       "\n",
       "                              Low                   Open              \\\n",
       "                   SPY       AAPL         SPY       AAPL         SPY   \n",
       "Date                                                                   \n",
       "2017-01-03  225.830002  28.690001  223.880005  28.950001  225.039993   \n",
       "2017-01-04  226.750000  28.937500  225.610001  28.962500  225.619995   \n",
       "2017-01-05  226.580002  28.952499  225.479996  28.980000  226.270004   \n",
       "2017-01-06  227.750000  29.117500  225.899994  29.195000  226.529999   \n",
       "2017-01-09  227.070007  29.485001  226.419998  29.487499  226.910004   \n",
       "...                ...        ...         ...        ...         ...   \n",
       "2017-04-24  237.410004  35.794998  234.559998  35.875000  237.179993   \n",
       "2017-04-25  238.949997  35.967499  237.809998  35.977501  237.910004   \n",
       "2017-04-26  239.529999  35.845001  238.350006  36.117500  238.509995   \n",
       "2017-04-27  238.949997  35.827499  237.979996  35.980000  238.770004   \n",
       "2017-04-28  238.929993  35.817501  237.929993  36.022499  238.899994   \n",
       "\n",
       "               Volume             \n",
       "                 AAPL        SPY  \n",
       "Date                              \n",
       "2017-01-03  115127600   91366500  \n",
       "2017-01-04   84472400   78744400  \n",
       "2017-01-05   88774400   78379000  \n",
       "2017-01-06  127007600   71559900  \n",
       "2017-01-09  134247600   46939700  \n",
       "...               ...        ...  \n",
       "2017-04-24   68537200  119209900  \n",
       "2017-04-25   75486000   76698300  \n",
       "2017-04-26   80164800   84702500  \n",
       "2017-04-27   56985200   57410300  \n",
       "2017-04-28   83441600   63532800  \n",
       "\n",
       "[81 rows x 12 columns]"
      ]
     },
     "execution_count": 89,
     "metadata": {},
     "output_type": "execute_result"
    }
   ],
   "source": [
    "data "
   ]
  },
  {
   "cell_type": "code",
   "execution_count": 92,
   "metadata": {},
   "outputs": [],
   "source": [
    "CLOSES = data['Adj Close']"
   ]
  },
  {
   "cell_type": "code",
   "execution_count": 96,
   "metadata": {},
   "outputs": [],
   "source": [
    "asset1 = list(CLOSES.AAPL.array)\n",
    "asset2 = list(CLOSES.SPY.array)"
   ]
  },
  {
   "cell_type": "code",
   "execution_count": 116,
   "metadata": {},
   "outputs": [],
   "source": [
    "asset1_v = variancia(asset1)\n",
    "asset2_v = variancia(asset2)\n",
    "cov = covariancia(asset1, asset2)"
   ]
  },
  {
   "cell_type": "code",
   "execution_count": 117,
   "metadata": {},
   "outputs": [
    {
     "name": "stdout",
     "output_type": "stream",
     "text": [
      "Variancia A: 5.0651474634302325\n",
      "Variancia B: 17.112999285529767\n",
      "Cov(A,B): 8.77769856191762\n"
     ]
    }
   ],
   "source": [
    "print(f'Variancia A: {asset1_v}\\nVariancia B: {asset2_v}\\nCov(A,B): {cov}')"
   ]
  },
  {
   "cell_type": "code",
   "execution_count": 132,
   "metadata": {},
   "outputs": [
    {
     "data": {
      "text/plain": [
       "5.065154888537052"
      ]
     },
     "execution_count": 132,
     "metadata": {},
     "output_type": "execute_result"
    }
   ],
   "source": [
    "func_to_min(0.999999, asset1_v, asset2_v, cov)"
   ]
  },
  {
   "cell_type": "code",
   "execution_count": null,
   "metadata": {},
   "outputs": [],
   "source": [
    "#https://www.machinelearningplus.com/machine-learning/portfolio-optimization-python-example/\n",
    "#https://stackabuse.com/gradient-descent-in-python-implementation-and-theory/\n",
    "#https://www.scielo.br/j/rae/a/Rxp3hRsyfzwxL6dz8YfpRwf/?lang=pt#\n",
    "#https://pypi.org/project/pyDEA/\n",
    "#https://warren.com.br/blog/indice-de-sharpe/\n",
    "\n",
    "\n",
    "print(f'Minimum point: {}')\n",
    "print(f'Minimum function value: {}')\n",
    "print(f'Fractional investment for first assest: {}')\n",
    "print(f'Fractional investment for second assest: {}')\n",
    "print(f'The Portfolio Risk: {}')\n",
    "print(f'Expected Portfolio Return: {}')"
   ]
  }
 ],
 "metadata": {
  "interpreter": {
   "hash": "156095e88c4122aa910a4b0fbc57328cd046ae399e7b0a439b87a86bea47efda"
  },
  "kernelspec": {
   "display_name": "Python 3.9.6 64-bit",
   "name": "python3"
  },
  "language_info": {
   "codemirror_mode": {
    "name": "ipython",
    "version": 3
   },
   "file_extension": ".py",
   "mimetype": "text/x-python",
   "name": "python",
   "nbconvert_exporter": "python",
   "pygments_lexer": "ipython3",
   "version": "3.9.6"
  },
  "orig_nbformat": 4
 },
 "nbformat": 4,
 "nbformat_minor": 2
}
